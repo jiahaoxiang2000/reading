{
 "cells": [
  {
   "cell_type": "markdown",
   "metadata": {},
   "source": [
    "### 5.1   Stack\n",
    "\n",
    "A stack is a linear data structure that follows the principle of **Last-In-First-Out** (LIFO).\n",
    "\n",
    "Table 5-1: Efficiency of Stack Operations\n",
    "\n",
    "| Method | Description | Time Complexity |\n",
    "|--------|-------------|-----------------|\n",
    "| `push()` | Push an element onto the stack (add to the top) | O(1) |\n",
    "| `pop()`  | Pop the top element from the stack | O(1) |\n",
    "| `peek()` | Access the top element of the stack | O(1) |"
   ]
  },
  {
   "cell_type": "markdown",
   "metadata": {},
   "source": [
    "### 5.2   Queue\n",
    "\n",
    "A queue is a linear data structure that follows the First-In-First-Out (FIFO) rule.\n",
    "\n",
    "Table 5-2: Efficiency of Queue Operations\n",
    "\n",
    "| Method Name | Description | Time Complexity |\n",
    "|-------------|-------------|-----------------|\n",
    "| `push()`      | Enqueue an element, add it to the tail | O(1) |\n",
    "| `pop() `      | Dequeue the head element | O(1) |\n",
    "| `peek()`      | Access the head element | O(1) |"
   ]
  }
 ],
 "metadata": {
  "language_info": {
   "name": "python"
  }
 },
 "nbformat": 4,
 "nbformat_minor": 2
}
