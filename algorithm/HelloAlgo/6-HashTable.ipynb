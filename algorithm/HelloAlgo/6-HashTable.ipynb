{
 "cells": [
  {
   "cell_type": "markdown",
   "metadata": {},
   "source": [
    "## 6.1   Hash table\n",
    "\n",
    "A `hash table`, also known as a `hash map`, is a data structure that establishes a mapping between keys and values, enabling efficient element retrieval. Specifically, when we input a key into the hash table, we can retrieve the corresponding value in $O(1)$ time complexity."
   ]
  },
  {
   "cell_type": "markdown",
   "metadata": {},
   "source": [
    "Table 6-1: Comparison of Time Efficiency for Common Operations\n",
    "\n",
    "| Operation        | Array | Linked List | Hash Table |\n",
    "|------------------|-------|-------------|------------|\n",
    "| Search Elements  | $O(n)$| $O(n)$      | $O(1)$     |\n",
    "| Insert Elements  | $O(1)$| $O(1)$      | $O(1)$     |\n",
    "| Delete Elements  | $O(n)$| $O(n)$      | $O(1)$     |\n",
    "\n",
    "As observed, the time complexity for operations (insertion, deletion, searching, and modification) in a hash table is $O(1)$ \n",
    ", which is highly efficient."
   ]
  },
  {
   "cell_type": "markdown",
   "metadata": {},
   "source": [
    "## 6.2   Hash collision\n",
    "\n",
    "The previous section mentioned that, in most cases, the input space of a hash function is much larger than the output space, so theoretically, hash collisions are inevitable.\n",
    "\n",
    "To improve efficiency, we can adopt the following strategies:\n",
    "\n",
    "1. Improve the hash table data structure in a way that locating target element is still functioning well in the event of a hash collision.\n",
    "2. Expansion is the last resort before it becomes necessary, when severe collisions are observed.\n",
    "\n",
    "There are mainly two methods for improving the structure of hash tables: \"Separate Chaining\" and \"Open Addressing\".\n"
   ]
  },
  {
   "cell_type": "markdown",
   "metadata": {},
   "source": [
    "#### 6.2.1   Separate chaining\n",
    "\n",
    "In the original hash table, each bucket can store only one key-value pair. Separate chaining converts a **single element** into a **linked list**, treating key-value pairs as list nodes, storing all colliding key-value pairs in the same linked list. "
   ]
  },
  {
   "cell_type": "markdown",
   "metadata": {},
   "source": [
    "#### 6.2.2   Open addressing\n",
    "\n",
    "Open addressing does not introduce additional data structures but instead handles hash collisions through \"multiple probing\". The probing methods mainly include linear probing, quadratic probing, and double hashing."
   ]
  },
  {
   "cell_type": "markdown",
   "metadata": {},
   "source": [
    "**1.   Linear probing** Linear probing uses a fixed-step linear search for probing, differing from ordinary hash tables.\n",
    "\n",
    "- Inserting Elements: Calculate the bucket index using the hash function. If the bucket already contains an element, linearly traverse forward from the conflict position (usually with a step size of \n",
    ") until an empty bucket is found, then insert the element.\n",
    "- Searching for Elements: If a hash collision is encountered, use the same step size to linearly traverse forward until the corresponding element is found and return value; if an empty bucket is encountered, it means the target element is not in the hash table, so return None."
   ]
  },
  {
   "cell_type": "markdown",
   "metadata": {},
   "source": [
    "**2.   Quadratic probing**\n",
    "Quadratic probing is similar to linear probing and is one of the common strategies of open addressing. When a collision occurs, quadratic probing does not simply skip a fixed number of steps but skips a number of steps equal to the \"square of the number of probes\", i.e., $1,4,9,\\dots$ steps."
   ]
  },
  {
   "cell_type": "markdown",
   "metadata": {},
   "source": [
    "**3.   Double hashing** As the name suggests, the double hashing method uses multiple hash functions $f_1(x),f_2(x),\\dots$ for probing."
   ]
  },
  {
   "cell_type": "markdown",
   "metadata": {},
   "source": [
    "### 6.3   Hash algorithms\n",
    "\n",
    "However, both open addressing and chaining can only ensure that the hash table functions normally when collisions occur, but cannot reduce the frequency of hash collisions."
   ]
  }
 ],
 "metadata": {
  "kernelspec": {
   "display_name": "misc",
   "language": "python",
   "name": "python3"
  },
  "language_info": {
   "name": "python",
   "version": "3.11.9"
  }
 },
 "nbformat": 4,
 "nbformat_minor": 2
}
