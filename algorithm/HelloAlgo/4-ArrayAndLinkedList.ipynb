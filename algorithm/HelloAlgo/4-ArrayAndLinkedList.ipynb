{
 "cells": [
  {
   "cell_type": "markdown",
   "metadata": {},
   "source": [
    "### 4.1   Array\n",
    "\n",
    "#### 4.1.2   Advantages and limitations of arrays\n",
    "\n",
    "Arrays are stored in contiguous memory spaces and consist of elements of the same type. This approach provides substantial prior information that systems can leverage to optimize the efficiency of data structure operations.\n",
    "\n",
    "- High space efficiency: Arrays allocate a contiguous block of memory for data, eliminating the need for additional structural overhead.\n",
    "- Support for random access: Arrays allow \n",
    " time access to any element.\n",
    "- Cache locality: When accessing array elements, the computer not only loads them but also caches the surrounding data, utilizing high-speed cache to enchance subsequent operation speeds"
   ]
  },
  {
   "cell_type": "markdown",
   "metadata": {},
   "source": [
    "However, continuous space storage is a double-edged sword, with the following limitations:\n",
    "\n",
    "- Low efficiency in insertion and deletion: As arrays accumulate many elements, inserting or deleting elements requires shifting a large number of elements.\n",
    "- Fixed length: The length of an array is fixed after initialization. Expanding an array requires copying all data to a new array, incurring significant costs.\n",
    "- Space wastage: If the allocated array size exceeds the what is necessary, the extra space is wasted."
   ]
  },
  {
   "cell_type": "markdown",
   "metadata": {},
   "source": [
    "### 4.2   Linked list\n",
    "#### 4.2.2   Arrays vs. linked lists\n",
    "\n",
    "Table 4-1 summarizes the characteristics of arrays and linked lists, and it also compares their efficiencies in various operations. Because they utilize opposing storage strategies, their respective properties and operational efficiencies exhibit distinct contrasts.\n"
   ]
  },
  {
   "cell_type": "markdown",
   "metadata": {},
   "source": [
    "Table 4-1: Efficiency Comparison of Arrays and Linked Lists\n",
    "\n",
    "| Characteristic       | Arrays                        | Linked Lists                     |\n",
    "|----------------------|-------------------------------|----------------------------------|\n",
    "| Storage              | Contiguous Memory Space       | Dispersed Memory Space           |\n",
    "| Capacity Expansion   | Fixed Length                  | Flexible Expansion               |\n",
    "| Memory Efficiency    | Less Memory per Element, Potential Space Wastage | More Memory per Element          |\n",
    "| Accessing Elements   | Fast ($O(1)$)                   | Slow ($O(n)$)                      |\n",
    "| Adding Elements      | Slow ($O(n)$)                   | Fast ($O(1)$)                      |\n",
    "| Deleting Elements    | Slow ($O(n)$)                   | Fast ($O(1)$)                      |"
   ]
  },
  {
   "cell_type": "markdown",
   "metadata": {},
   "source": [
    "### 4.3   List\n",
    "\n",
    "In fact, many programming languages' standard libraries implement lists using dynamic arrays, such as Python's `list`, Java's `ArrayList`, C++'s `vector`, and C#'s `List`. In the following discussion, we will consider \"list\" and \"dynamic array\" as synonymous concepts."
   ]
  },
  {
   "cell_type": "code",
   "execution_count": null,
   "metadata": {},
   "outputs": [],
   "source": [
    "class MyList:\n",
    "    \"\"\"List class\"\"\"\n",
    "\n",
    "    def __init__(self):\n",
    "        \"\"\"Constructor\"\"\"\n",
    "        self._capacity: int = 10  # List capacity\n",
    "        self._arr: list[int] = [0] * self._capacity  # Array (stores list elements)\n",
    "        self._size: int = 0  # List length (current number of elements)\n",
    "        self._extend_ratio: int = 2  # Multiple for each list expansion\n",
    "\n",
    "    def size(self) -> int:\n",
    "        \"\"\"Get list length (current number of elements)\"\"\"\n",
    "        return self._size\n",
    "\n",
    "    def capacity(self) -> int:\n",
    "        \"\"\"Get list capacity\"\"\"\n",
    "        return self._capacity\n",
    "\n",
    "    def get(self, index: int) -> int:\n",
    "        \"\"\"Access element\"\"\"\n",
    "        # If the index is out of bounds, throw an exception, as below\n",
    "        if index < 0 or index >= self._size:\n",
    "            raise IndexError(\"Index out of bounds\")\n",
    "        return self._arr[index]\n",
    "\n",
    "    def set(self, num: int, index: int):\n",
    "        \"\"\"Update element\"\"\"\n",
    "        if index < 0 or index >= self._size:\n",
    "            raise IndexError(\"Index out of bounds\")\n",
    "        self._arr[index] = num\n",
    "\n",
    "    def add(self, num: int):\n",
    "        \"\"\"Add element at the end\"\"\"\n",
    "        # When the number of elements exceeds capacity, trigger the expansion mechanism\n",
    "        if self.size() == self.capacity():\n",
    "            self.extend_capacity()\n",
    "        self._arr[self._size] = num\n",
    "        self._size += 1\n",
    "\n",
    "    def insert(self, num: int, index: int):\n",
    "        \"\"\"Insert element in the middle\"\"\"\n",
    "        if index < 0 or index >= self._size:\n",
    "            raise IndexError(\"Index out of bounds\")\n",
    "        # When the number of elements exceeds capacity, trigger the expansion mechanism\n",
    "        if self._size == self.capacity():\n",
    "            self.extend_capacity()\n",
    "        # Move all elements after `index` one position backward\n",
    "        for j in range(self._size - 1, index - 1, -1):\n",
    "            self._arr[j + 1] = self._arr[j]\n",
    "        self._arr[index] = num\n",
    "        # Update the number of elements\n",
    "        self._size += 1\n",
    "\n",
    "    def remove(self, index: int) -> int:\n",
    "        \"\"\"Remove element\"\"\"\n",
    "        if index < 0 or index >= self._size:\n",
    "            raise IndexError(\"Index out of bounds\")\n",
    "        num = self._arr[index]\n",
    "        # Move all elements after `index` one position forward\n",
    "        for j in range(index, self._size - 1):\n",
    "            self._arr[j] = self._arr[j + 1]\n",
    "        # Update the number of elements\n",
    "        self._size -= 1\n",
    "        # Return the removed element\n",
    "        return num\n",
    "\n",
    "    def extend_capacity(self):\n",
    "        \"\"\"Extend list\"\"\"\n",
    "        # Create a new array of _extend_ratio times the length of the original array and copy the original array to the new array\n",
    "        self._arr = self._arr + [0] * self.capacity() * (self._extend_ratio - 1)\n",
    "        # Update list capacity\n",
    "        self._capacity = len(self._arr)\n",
    "\n",
    "    def to_array(self) -> list[int]:\n",
    "        \"\"\"Return a list of valid lengths\"\"\"\n",
    "        return self._arr[: self._size]"
   ]
  }
 ],
 "metadata": {
  "language_info": {
   "name": "python"
  }
 },
 "nbformat": 4,
 "nbformat_minor": 2
}
