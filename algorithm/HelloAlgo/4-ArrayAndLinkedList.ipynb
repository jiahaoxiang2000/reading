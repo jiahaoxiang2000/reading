{
 "cells": [
  {
   "cell_type": "markdown",
   "metadata": {},
   "source": [
    "### 4.1   Array\n",
    "\n",
    "#### 4.1.2   Advantages and limitations of arrays\n",
    "\n",
    "Arrays are stored in contiguous memory spaces and consist of elements of the same type. This approach provides substantial prior information that systems can leverage to optimize the efficiency of data structure operations.\n",
    "\n",
    "- High space efficiency: Arrays allocate a contiguous block of memory for data, eliminating the need for additional structural overhead.\n",
    "- Support for random access: Arrays allow \n",
    " time access to any element.\n",
    "- Cache locality: When accessing array elements, the computer not only loads them but also caches the surrounding data, utilizing high-speed cache to enchance subsequent operation speeds"
   ]
  },
  {
   "cell_type": "markdown",
   "metadata": {},
   "source": [
    "However, continuous space storage is a double-edged sword, with the following limitations:\n",
    "\n",
    "- Low efficiency in insertion and deletion: As arrays accumulate many elements, inserting or deleting elements requires shifting a large number of elements.\n",
    "- Fixed length: The length of an array is fixed after initialization. Expanding an array requires copying all data to a new array, incurring significant costs.\n",
    "- Space wastage: If the allocated array size exceeds the what is necessary, the extra space is wasted."
   ]
  },
  {
   "cell_type": "markdown",
   "metadata": {},
   "source": [
    "### 4.2   Linked list\n",
    "#### 4.2.2   Arrays vs. linked lists\n",
    "\n",
    "Table 4-1 summarizes the characteristics of arrays and linked lists, and it also compares their efficiencies in various operations. Because they utilize opposing storage strategies, their respective properties and operational efficiencies exhibit distinct contrasts.\n"
   ]
  },
  {
   "cell_type": "markdown",
   "metadata": {},
   "source": [
    "Table 4-1: Efficiency Comparison of Arrays and Linked Lists\n",
    "\n",
    "| Characteristic       | Arrays                        | Linked Lists                     |\n",
    "|----------------------|-------------------------------|----------------------------------|\n",
    "| Storage              | Contiguous Memory Space       | Dispersed Memory Space           |\n",
    "| Capacity Expansion   | Fixed Length                  | Flexible Expansion               |\n",
    "| Memory Efficiency    | Less Memory per Element, Potential Space Wastage | More Memory per Element          |\n",
    "| Accessing Elements   | Fast ($O(1)$)                   | Slow ($O(n)$)                      |\n",
    "| Adding Elements      | Slow ($O(n)$)                   | Fast ($O(1)$)                      |\n",
    "| Deleting Elements    | Slow ($O(n)$)                   | Fast ($O(1)$)                      |"
   ]
  }
 ],
 "metadata": {
  "language_info": {
   "name": "python"
  }
 },
 "nbformat": 4,
 "nbformat_minor": 2
}
